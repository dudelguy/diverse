{
 "cells": [
  {
   "cell_type": "code",
   "execution_count": null,
   "metadata": {},
   "outputs": [],
   "source": [
    "'''\n",
    "\n",
    "Different functions to calculate weather data from other meteorological components.\n",
    "\n",
    "Includes functions to calculate:\n",
    "a) wind speed, \n",
    "b) wind direction\n",
    "c) rel. humidity\n",
    "\n",
    "'''"
   ]
  },
  {
   "cell_type": "code",
   "execution_count": null,
   "metadata": {},
   "outputs": [],
   "source": [
    "# load the necessary packages\n",
    "import numpy as np"
   ]
  },
  {
   "cell_type": "code",
   "execution_count": null,
   "metadata": {},
   "outputs": [],
   "source": [
    "'''\n",
    "Several reanalysis products (e.g. ERA5) only offer the v- and u-component \n",
    "of the wind.\n",
    "These two functions can be used to transform those components into \n",
    "wind speed and wind direction\n",
    "'''\n",
    "\n",
    "def wind_speed_era5(u_speed, v_speed):\n",
    "    '''\n",
    "    input:\n",
    "    u_speed = u-component of the wind\n",
    "    v_speed = v-component of the wind\n",
    "    \n",
    "    output: \n",
    "    wind speed (m/s) along the direction of the wind \n",
    "    '''\n",
    "    return np.sqrt((u_speed**2)+(v_speed**2))\n",
    "\n",
    "\n",
    "def wind_dir_era5(u_speed, v_speed):\n",
    "    '''\n",
    "    calculates the wind direction (in degrees FROM which the wind is coming from)\n",
    "    \n",
    "    input:\n",
    "    u_speed = u-component of the wind\n",
    "    v_speed = v-component of the wind\n",
    "    \n",
    "    output: \n",
    "    direction, from where the wind is coming from (degrees from 0-360)\n",
    "    '''\n",
    "    return (180+((180/np.pi)*np.arctan2(u_speed,v_speed)))%360"
   ]
  },
  {
   "cell_type": "code",
   "execution_count": null,
   "metadata": {},
   "outputs": [],
   "source": [
    "def calculate_relative_humidity(T, Dp):\n",
    "    '''\n",
    "    calculates the relative humidity from temperature and dew point temperature values\n",
    "    \n",
    "    input:\n",
    "    T = Temperature in °C\n",
    "    Dp = Dew temperature in °C\n",
    "    \n",
    "    output: relative humidity\n",
    "    '''\n",
    "    b = 17.625\n",
    "    c = 243.04\n",
    "\n",
    "    numerator = np.exp((b * (Dp-273.15)) / (c + (Dp-273.15)))\n",
    "    denominator = np.exp((b * (T-273.15)) / (c + (T-273.15)))\n",
    "\n",
    "    RH = 100 * (numerator / denominator)\n",
    "    return RH"
   ]
  }
 ],
 "metadata": {
  "language_info": {
   "name": "python"
  }
 },
 "nbformat": 4,
 "nbformat_minor": 2
}
