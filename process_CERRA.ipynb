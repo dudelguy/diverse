{
 "cells": [
  {
   "cell_type": "code",
   "execution_count": null,
   "metadata": {},
   "outputs": [],
   "source": [
    "''' \n",
    "Code to transform CERRA grip files into raster files and select aand save a specified area\n",
    "\n",
    "The Copernicus European Regional ReAnalysis (CERRA) products include a wide variety of different \n",
    "meteorological reanalysis data with a temporal resolution of 3 hours.\n",
    "\n",
    "In comparison to other reanalysis products, CERRA only covers the European continent, but with an increases spatial resolution\n",
    "of 5.5 km.\n",
    "\n",
    "More information can be found \n",
    "a) on the distinct CERRA product pages:\n",
    "https://cds.climate.copernicus.eu/cdsapp#!/search?type=dataset&text=CERRA\n",
    "b) the Copernicus user guide:\n",
    "https://confluence.ecmwf.int/display/CKB/Copernicus+European+Regional+ReAnalysis+%28CERRA%29%3A+product+user+guide\n",
    "\n",
    "'''"
   ]
  },
  {
   "cell_type": "code",
   "execution_count": 1,
   "metadata": {},
   "outputs": [],
   "source": [
    "import re\n",
    "import pandas as pd\n",
    "import geopandas as gpd\n",
    "import numpy as np\n",
    "from osgeo import osr, ogr, gdal\n",
    "from datetime import datetime, timedelta"
   ]
  },
  {
   "cell_type": "code",
   "execution_count": 6,
   "metadata": {},
   "outputs": [],
   "source": [
    "'''\n",
    "function to get the selected band of the grib file based on the \n",
    "\n",
    "input:\n",
    "grib_file: opened grip file\n",
    "met_var: string with the meteorological variable that is to be extracted \n",
    "\n",
    "output:\n",
    "matching_bands: band number of the grib file that match the meteorological variable\n",
    "'''\n",
    "\n",
    "def get_bands_based_on_grib_element(grib_file, met_var):\n",
    "\n",
    "    matching_bands = []\n",
    "\n",
    "    # Loop through each band and check the GRIB_ELEMENT metadata\n",
    "    for i in range(1, grib_file.RasterCount + 1):  # GDAL band indices start at 1\n",
    "        band = grib_file.GetRasterBand(i)\n",
    "        metadata = band.GetMetadata()\n",
    "        \n",
    "        if 'GRIB_ELEMENT' in metadata and metadata['GRIB_ELEMENT'] == met_var:\n",
    "            matching_bands.append(i)\n",
    "\n",
    "    return matching_bands"
   ]
  },
  {
   "cell_type": "code",
   "execution_count": 12,
   "metadata": {},
   "outputs": [],
   "source": [
    "'''\n",
    "function to reproject the CERRA data into a new crs\n",
    "\n",
    "input:\n",
    "cerra_data: the opened grib-file with. Its projection has to be set\n",
    "list_of_bands_to_warp: a list with band numbers that should be warped into the new crs.\n",
    "                       Band numbers can be found with \"get_bands_based_on_grib_element\"\n",
    "target_crs: the target crs\n",
    "\n",
    "output:\n",
    "output_vrt_name: name of the in-memory .tif-file\n",
    "output_dataset: the actual in-memory .tif-file\n",
    "'''\n",
    "\n",
    "def warp_CERRA_to_targetCRS(cerra_data, list_of_bands_to_warp, target_crs):\n",
    "    \n",
    "    # Extract the desired bands and save the data in an in-memory dataset\n",
    "    in_memory_name = \"/vsimem/temp_band.vrt\"\n",
    "    gdal.Translate(in_memory_name, cerra_data, format=\"VRT\", bandList=list_of_bands_to_warp)\n",
    "    \n",
    "    # open the in-memory dataset\n",
    "    temp_dataset = gdal.Open(in_memory_name)\n",
    "\n",
    "    # Warp the in-memory dataset to an in-memory .tif-file with the target CRS \n",
    "    output_vrt_name = \"/vsimem/output_in_memory.tif\"\n",
    "    gdal.Warp(output_vrt_name, temp_dataset, resampleAlg=\"bilinear\", dstSRS=target_crs)\n",
    "\n",
    "    # open the new in-memory .tif \n",
    "    output_dataset = gdal.Open(output_vrt_name)\n",
    "    \n",
    "    # At this point, the data in 'output_dataset' is the warped result, kept in memory.\n",
    "    # unlink the first dataset\n",
    "    gdal.Unlink(in_memory_name)\n",
    "    \n",
    "    # return the name of the in-memory .tif-file, as well as the file itself\n",
    "    return output_vrt_name, output_dataset"
   ]
  },
  {
   "cell_type": "code",
   "execution_count": 13,
   "metadata": {},
   "outputs": [],
   "source": [
    "'''\n",
    "Function to get raster values of specific points\n",
    "\n",
    "input:\n",
    "ds: grib-file data, transformed into the virtual .tif-file and reprojected into the correct crs \n",
    "    This is the result of the 'warp_CERRA_to_targetCRS' function\n",
    "gt: geotransform of the grib-file data, transformed into the virtual .tif-file and reprojected into the correct crs\n",
    "x: x/lon values of the point\n",
    "y: y/lat-values of the point\n",
    "\n",
    "ouput:\n",
    "values: values of the meteorological variable at the specific points\n",
    "time: the initial grib-file can include the meteorological data of multiple days\n",
    "      to link the resulting values to the correct date, \n",
    "      the date of every value point is saved in this variable \n",
    "'''\n",
    "\n",
    "def get_raster_value_at_point(ds, gt, x, y):\n",
    "    col = int((x - gt[0]) / gt[1])\n",
    "    row = int((y - gt[3]) / gt[5])\n",
    "    \n",
    "    # Bounds check\n",
    "    if (col < 0 or col >= ds.RasterXSize or \n",
    "        row < 0 or row >= ds.RasterYSize):\n",
    "        print(f\"Warning: Point ({x}, {y}) is out of raster bounds.\")\n",
    "        return None\n",
    "    \n",
    "\n",
    "    values = []\n",
    "    time = []\n",
    "    \n",
    "    for timestamp in range(1, (ds.RasterCount + 1)):\n",
    "        \n",
    "        band = ds.GetRasterBand(timestamp)  # Assuming you want the first band\n",
    "        metadata = band.GetMetadata()\n",
    "        time.extend([pd.to_datetime(re.search(' REF_TIME=(.*)Z', metadata[\"GRIB_IDS\"]).group(1))])\n",
    "        \n",
    "        # Check band validity\n",
    "        if not band:\n",
    "            print(\"Warning: Band is not valid.\")\n",
    "            return None\n",
    "        \n",
    "        data = band.ReadAsArray(col, row, 1, 1)\n",
    "        \n",
    "        # Check if data is None\n",
    "        if data is None:\n",
    "            print(f\"Warning: No data for point ({x}, {y}).\")\n",
    "            return None\n",
    "        \n",
    "        values.extend([data[0][0]])\n",
    "    \n",
    "    return values, time"
   ]
  },
  {
   "cell_type": "code",
   "execution_count": 21,
   "metadata": {},
   "outputs": [],
   "source": [
    "'''\n",
    "combines all functions into a single function, able to \n",
    "a) retrieve the bands of investigated variables,\n",
    "b) reproject the CERRA data into a new CRS, and,\n",
    "c) extract meteorological values for specific points \n",
    "\n",
    "input: \n",
    "shp_with_points: shapefile including the point coordinates \n",
    "cerra_grib: the grip-file, openend in python (gdal.Open(path))\n",
    "meteo_index: string of the name of the meteorological variable \n",
    "\n",
    "output:\n",
    "values_all_points: list with all values of the meteorological variable at the point positions\n",
    "coord_points: point coordinates \n",
    "time: date references of the extracted values\n",
    "'''\n",
    "\n",
    "def get_point_values_of_CERRA_grib(shp_with_points, cerra_grib, meteo_index):\n",
    "    \n",
    "    # get the layer of the shapefle that includes the geometry of the points\n",
    "    layer = shp_with_points.GetLayer()\n",
    "    # get the crs of the shapefile. This is the target crs of the CERRA data \n",
    "    # and ensures that both datasets are in the same crs\n",
    "    target_crs = layer.GetSpatialRef()\n",
    "    \n",
    "    # create a list with band numbers that belong to the meteorological variables \n",
    "    bands_with_wdir = get_bands_based_on_grib_element(cerra_grib, meteo_index)\n",
    "    # reproject the grib-file into the wanted crs\n",
    "    vrt_dataset, output_dataset = warp_CERRA_to_targetCRS(cerra_grib,bands_with_wdir,target_crs)\n",
    "    \n",
    "    # get bounds of raster for the point extraction\n",
    "    raster_gt = output_dataset.GetGeoTransform()\n",
    "    raster_proj = osr.SpatialReference()\n",
    "    raster_proj.ImportFromWkt(output_dataset.GetProjection())\n",
    "    \n",
    "    # Iterate through the shapefile and extract the values for every point in the shapefile and every band of the grib file\n",
    "    values_all_points = []\n",
    "    coord_points = []\n",
    "    time_all_points = []\n",
    "\n",
    "    for feature in layer:\n",
    "        # select the specific point for which to extract the point values\n",
    "        geom = feature.GetGeometryRef()\n",
    "        x = geom.GetX()\n",
    "        y = geom.GetY()\n",
    "        # use function to get the values of the specific point for every band\n",
    "        values, time = get_raster_value_at_point(output_dataset, raster_gt, x, y)\n",
    "        # append the list with the values of one point. \n",
    "        # Afterwards, this variable includes the point values of every point in an individual list\n",
    "        values_all_points.append(values)\n",
    "        coord_points.append([x,y])\n",
    "        time_all_points.append(time)\n",
    "        \n",
    "    # Cleanup datasets\n",
    "    gdal.Unlink(vrt_dataset)\n",
    "    \n",
    "    # return three lists: the meteorological data at the point positions,\n",
    "    # the point coordinates, and the date \n",
    "    return values_all_points, coord_points, time"
   ]
  },
  {
   "cell_type": "markdown",
   "metadata": {},
   "source": [
    "### Example: Extract wind direction for specific point loactions from a CERRA .grib-file"
   ]
  },
  {
   "cell_type": "code",
   "execution_count": 2,
   "metadata": {},
   "outputs": [
    {
     "data": {
      "text/plain": [
       "0"
      ]
     },
     "execution_count": 2,
     "metadata": {},
     "output_type": "execute_result"
    }
   ],
   "source": [
    "# set the grid information for the CERRA-data\n",
    "# This information was obtained from the user guide:\n",
    "# https://confluence.ecmwf.int/display/CKB/Copernicus+European+Regional+ReAnalysis+%28CERRA%29%3A+product+user+guide\n",
    "\n",
    "source_crs = osr.SpatialReference()\n",
    "source_crs.SetProjCS(\"Lambert Conformal Conic\")\n",
    "source_crs.SetLCC(50, 50, 50, 8, 0, 0)\n",
    "source_crs.SetGeogCS(\"WGS 84 based on Sphere\", \"WGS_84\", \"Sphere\", 6371229, 0.0)\n",
    "\n",
    "# set the target crs for the CERRA-data to the EPSG 4326\n",
    "target_crs = osr.SpatialReference()\n",
    "target_crs.ImportFromEPSG(4326)"
   ]
  },
  {
   "cell_type": "code",
   "execution_count": 36,
   "metadata": {},
   "outputs": [
    {
     "data": {
      "text/plain": [
       "0"
      ]
     },
     "execution_count": 36,
     "metadata": {},
     "output_type": "execute_result"
    }
   ],
   "source": [
    "# Open the GRIB file\n",
    "grib_dataset = gdal.Open(\"/.grib\")\n",
    "# Set the projection (assigning the CRS to the GRIB file)\n",
    "grib_dataset.SetProjection(source_crs.ExportToWkt())"
   ]
  },
  {
   "cell_type": "code",
   "execution_count": null,
   "metadata": {},
   "outputs": [],
   "source": [
    "# open a shapefile with the coordinates of the points for which the weather data should be extracted\n",
    "shapefile_path = \".../points_to_extract_from_CERRA.shp\"\n",
    "gdf_shapefile = ogr.Open(shapefile_path)"
   ]
  },
  {
   "cell_type": "code",
   "execution_count": 37,
   "metadata": {},
   "outputs": [],
   "source": [
    "# get the wind direction (\"WDIR\") for all the specified points \n",
    "wind_direction, coordinates, time = get_point_values_of_CERRA_grib(gdf_shapefile,grib_dataset,\"WDIR\",target_crs)"
   ]
  }
 ],
 "metadata": {
  "kernelspec": {
   "display_name": "gdal_env",
   "language": "python",
   "name": "python3"
  },
  "language_info": {
   "codemirror_mode": {
    "name": "ipython",
    "version": 3
   },
   "file_extension": ".py",
   "mimetype": "text/x-python",
   "name": "python",
   "nbconvert_exporter": "python",
   "pygments_lexer": "ipython3",
   "version": "3.11.9"
  },
  "orig_nbformat": 4
 },
 "nbformat": 4,
 "nbformat_minor": 2
}
